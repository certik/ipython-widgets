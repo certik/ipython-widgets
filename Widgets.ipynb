{
 "metadata": {
  "name": "Widgets"
 },
 "nbformat": 3,
 "nbformat_minor": 0,
 "worksheets": [
  {
   "cells": [
    {
     "cell_type": "code",
     "collapsed": false,
     "input": [
      "class Slider(object):\n",
      "    \n",
      "    def __init__(self, min=1, max=100, step=1):\n",
      "        self._min = min\n",
      "        self._max = max\n",
      "        self._step = step\n",
      "        self._value_init = (min+max)/2\n",
      "        self._id = \"slider\" + str(id(self))\n",
      "        self._python_var=\"s\"\n",
      "    \n",
      "    def _repr_html_(self):\n",
      "        javascript = \"\"\" \\\n",
      "<script type=\"text/Javascript\">\n",
      "    function %(id)s_updated(value){\n",
      "        //get the element\n",
      "        var display = document.getElementById(\"chosen\");\n",
      "        //show the amount\n",
      "        display.innerHTML=\"%(python_var)s = \" + value;\n",
      "        var command = \"slider_value = '\" + value + \"'\";\n",
      "        console.log(\"Executing Command: \" + command);\n",
      "        \n",
      "        var kernel = IPython.notebook.kernel;\n",
      "        kernel.execute(command);\n",
      "    }\n",
      "</script>\n",
      "\"\"\" % {\"id\": self._id, \"python_var\": self._python_var}\n",
      "        html = \"\"\" \\\n",
      "%(min)s <input id=\"%(id)s\" type=\"range\" min=\"%(min)s\" max=\"%(max)s\" step=\"%(step)s\" value=\"%(value_init)s\"\n",
      "    onchange=\"%(id)s_updated(this.value)\" /> %(max)s</div>\n",
      "<div id=\"chosen\">%(python_var)s = %(value_init)s</div>\n",
      "\"\"\" % {\"id\": self._id, \"min\": self._min, \"max\": self._max, \"step\": self._step, \"value_init\": self._value_init,\n",
      "        \"python_var\": self._python_var}\n",
      "        return javascript + html"
     ],
     "language": "python",
     "metadata": {},
     "outputs": [],
     "prompt_number": 52
    },
    {
     "cell_type": "code",
     "collapsed": false,
     "input": [
      "s = Slider()\n",
      "s"
     ],
     "language": "python",
     "metadata": {},
     "outputs": [
      {
       "html": [
        " <script type=\"text/Javascript\">\n",
        "    function slider30337360_updated(value){\n",
        "        //get the element\n",
        "        var display = document.getElementById(\"chosen\");\n",
        "        //show the amount\n",
        "        display.innerHTML=\"s = \" + value;\n",
        "        var command = \"slider_value = '\" + value + \"'\";\n",
        "        console.log(\"Executing Command: \" + command);\n",
        "        \n",
        "        var kernel = IPython.notebook.kernel;\n",
        "        kernel.execute(command);\n",
        "    }\n",
        "</script>\n",
        " 1 <input id=\"slider30337360\" type=\"range\" min=\"1\" max=\"100\" step=\"1\" value=\"50\"\n",
        "    onchange=\"slider30337360_updated(this.value)\" /> 100</div>\n",
        "<div id=\"chosen\">s = 50</div>\n"
       ],
       "output_type": "pyout",
       "prompt_number": 53,
       "text": [
        "<__main__.Slider at 0x1cee950>"
       ]
      }
     ],
     "prompt_number": 53
    },
    {
     "cell_type": "code",
     "collapsed": false,
     "input": [
      "s._repr_html_()"
     ],
     "language": "python",
     "metadata": {},
     "outputs": [
      {
       "output_type": "pyout",
       "prompt_number": 37,
       "text": [
        "' <script type=\"text/Javascript\">\\n    function slider30337232_updated(value){\\n        //get the element\\n        var display = document.getElementById(\"chosen\");\\n        //show the amount\\n        display.innerHTML=value;\\n        var command = \"slider_value = \\'\" + value + \"\\'\";\\n        console.log(\"Executing Command: \" + command);\\n        \\n        var kernel = IPython.notebook.kernel;\\n        kernel.execute(command);\\n    }\\n</script>\\n 5% <input id=\"slider30337232\" type=\"range\" min=\"1\" max=\"100\" step=\"1\" value=\"100\" onchange=\"slider30337232_updated(this.value)\" /> 200%</div>\\n<div id=\"chosen\">100</div>\\n'"
       ]
      }
     ],
     "prompt_number": 37
    },
    {
     "cell_type": "code",
     "collapsed": false,
     "input": [],
     "language": "python",
     "metadata": {},
     "outputs": []
    }
   ],
   "metadata": {}
  }
 ]
}