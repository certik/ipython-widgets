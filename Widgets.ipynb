{
 "metadata": {
  "name": "Widgets"
 },
 "nbformat": 3,
 "nbformat_minor": 0,
 "worksheets": [
  {
   "cells": [
    {
     "cell_type": "code",
     "collapsed": false,
     "input": [
      "from cStringIO import StringIO\n",
      "\n",
      "def figure2png(fig):\n",
      "        buffer = StringIO()\n",
      "        fig.savefig(buffer, format='png')\n",
      "        buffer.reset()\n",
      "        data = buffer.read().encode('base64')\n",
      "        return \"data:image/png;base64,{0}\".format(data.replace('\\n', ''))\n",
      "    \n",
      "\n",
      "class Slider(object):\n",
      "    \n",
      "    def __init__(self, python_var, min=1, max=100, step=1):\n",
      "        self._min = min\n",
      "        self._max = max\n",
      "        self._step = step\n",
      "        self._value_init = (min+max)/2\n",
      "        self._id = \"slider\" + str(id(self))\n",
      "        self._python_var = python_var\n",
      "        \n",
      "    def update(self, value):\n",
      "        from pylab import plot, gcf\n",
      "        plot([1, value, 3])\n",
      "        fig = gcf()\n",
      "        data = figure2png(fig)\n",
      "        return data\n",
      "    \n",
      "    def _repr_html_(self):\n",
      "        javascript = \"\"\" \\\n",
      "<script type=\"text/Javascript\">\n",
      "    function %(id)s_updated(value) {\n",
      "        //get the element\n",
      "        var display = document.getElementById(\"chosen\");\n",
      "        //show the amount\n",
      "        display.innerHTML=\"%(python_var)s = \" + value;\n",
      "        var command = \"s.update(\" + value + \")\";\n",
      "        //console.log(\"Executing Command: \" + command);\n",
      "        \n",
      "        var kernel = IPython.notebook.kernel;\n",
      "        kernel.execute(command, {'output' : %(id)s_handle_output}, {silent:false});\n",
      "    }\n",
      "    function %(id)s_handle_output(out_type, out) {\n",
      "        //console.log(out_type);\n",
      "        //console.log(out);\n",
      "        var res = null;\n",
      "         // if output is a print statement\n",
      "        if(out_type == \"stream\"){\n",
      "            res = out.data;\n",
      "        }\n",
      "        // if output is a python object\n",
      "        else if(out_type === \"pyout\"){\n",
      "            res = out.data[\"text/plain\"];\n",
      "            document.getElementById(\"anim_frame\").src = res.substring(1, res.length - 1);\n",
      "            res = \"Image\"\n",
      "        }\n",
      "        // if output is a python error\n",
      "        else if(out_type == \"pyerr\"){\n",
      "            res = out.ename + \": \" + out.evalue;\n",
      "        }\n",
      "        // if output is something we haven't thought of\n",
      "        else{\n",
      "            res = \"[out type not implemented]\";   \n",
      "        }\n",
      "        document.getElementById(\"%(id)s_result_output\").innerHTML = res;\n",
      "    }\n",
      "</script>\n",
      "\"\"\" % {\"id\": self._id, \"python_var\": self._python_var}\n",
      "        html = \"\"\" \\\n",
      "%(min)s <input id=\"%(id)s\" type=\"range\" min=\"%(min)s\" max=\"%(max)s\" step=\"%(step)s\" value=\"%(value_init)s\"\n",
      "    onchange=\"%(id)s_updated(this.value)\" /> %(max)s</div>\n",
      "<div id=\"chosen\">%(python_var)s = %(value_init)s</div>\n",
      "Result: <div id=\"%(id)s_result_output\"></div>\n",
      "<img id=\"anim_frame\" src=\"\"><br>\n",
      "\"\"\" % {\"id\": self._id, \"min\": self._min, \"max\": self._max, \"step\": self._step, \"value_init\": self._value_init,\n",
      "        \"python_var\": self._python_var}\n",
      "        return javascript + html"
     ],
     "language": "python",
     "metadata": {},
     "outputs": [],
     "prompt_number": 294
    },
    {
     "cell_type": "code",
     "collapsed": false,
     "input": [
      "s = Slider(\"s\")\n",
      "s"
     ],
     "language": "python",
     "metadata": {},
     "outputs": [
      {
       "html": [
        " <script type=\"text/Javascript\">\n",
        "    function slider45024400_updated(value) {\n",
        "        //get the element\n",
        "        var display = document.getElementById(\"chosen\");\n",
        "        //show the amount\n",
        "        display.innerHTML=\"s = \" + value;\n",
        "        var command = \"s.update(\" + value + \")\";\n",
        "        //console.log(\"Executing Command: \" + command);\n",
        "        \n",
        "        var kernel = IPython.notebook.kernel;\n",
        "        kernel.execute(command, {'output' : slider45024400_handle_output}, {silent:false});\n",
        "    }\n",
        "    function slider45024400_handle_output(out_type, out) {\n",
        "        //console.log(out_type);\n",
        "        //console.log(out);\n",
        "        var res = null;\n",
        "         // if output is a print statement\n",
        "        if(out_type == \"stream\"){\n",
        "            res = out.data;\n",
        "        }\n",
        "        // if output is a python object\n",
        "        else if(out_type === \"pyout\"){\n",
        "            res = out.data[\"text/plain\"];\n",
        "            document.getElementById(\"anim_frame\").src = res.substring(1, res.length - 1);\n",
        "            res = \"Image\"\n",
        "        }\n",
        "        // if output is a python error\n",
        "        else if(out_type == \"pyerr\"){\n",
        "            res = out.ename + \": \" + out.evalue;\n",
        "        }\n",
        "        // if output is something we haven't thought of\n",
        "        else{\n",
        "            res = \"[out type not implemented]\";   \n",
        "        }\n",
        "        document.getElementById(\"slider45024400_result_output\").innerHTML = res;\n",
        "    }\n",
        "</script>\n",
        " 1 <input id=\"slider45024400\" type=\"range\" min=\"1\" max=\"100\" step=\"1\" value=\"50\"\n",
        "    onchange=\"slider45024400_updated(this.value)\" /> 100</div>\n",
        "<div id=\"chosen\">s = 50</div>\n",
        "Result: <div id=\"slider45024400_result_output\"></div>\n",
        "<img id=\"anim_frame\" src=\"\"><br>\n"
       ],
       "output_type": "pyout",
       "prompt_number": 295,
       "text": [
        "<__main__.Slider at 0x2af0490>"
       ]
      }
     ],
     "prompt_number": 295
    },
    {
     "cell_type": "code",
     "collapsed": false,
     "input": [
      "s._repr_html_()"
     ],
     "language": "python",
     "metadata": {},
     "outputs": [
      {
       "output_type": "pyout",
       "prompt_number": 37,
       "text": [
        "' <script type=\"text/Javascript\">\\n    function slider30337232_updated(value){\\n        //get the element\\n        var display = document.getElementById(\"chosen\");\\n        //show the amount\\n        display.innerHTML=value;\\n        var command = \"slider_value = \\'\" + value + \"\\'\";\\n        console.log(\"Executing Command: \" + command);\\n        \\n        var kernel = IPython.notebook.kernel;\\n        kernel.execute(command);\\n    }\\n</script>\\n 5% <input id=\"slider30337232\" type=\"range\" min=\"1\" max=\"100\" step=\"1\" value=\"100\" onchange=\"slider30337232_updated(this.value)\" /> 200%</div>\\n<div id=\"chosen\">100</div>\\n'"
       ]
      }
     ],
     "prompt_number": 37
    },
    {
     "cell_type": "code",
     "collapsed": false,
     "input": [],
     "language": "python",
     "metadata": {},
     "outputs": [],
     "prompt_number": 236
    },
    {
     "cell_type": "code",
     "collapsed": false,
     "input": [
      "\n",
      "from pylab import plot, gcf\n",
      "plot([1, 2, 3])\n",
      "fig = gcf()"
     ],
     "language": "python",
     "metadata": {},
     "outputs": [],
     "prompt_number": 243
    },
    {
     "cell_type": "code",
     "collapsed": false,
     "input": [
      "figure2png(fig)"
     ],
     "language": "python",
     "metadata": {},
     "outputs": [
      {
       "output_type": "pyout",
       "prompt_number": 244,
       "text": [
        "'data:image/png;base64,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'"
       ]
      }
     ],
     "prompt_number": 244
    },
    {
     "cell_type": "code",
     "collapsed": false,
     "input": [],
     "language": "python",
     "metadata": {},
     "outputs": []
    }
   ],
   "metadata": {}
  }
 ]
}